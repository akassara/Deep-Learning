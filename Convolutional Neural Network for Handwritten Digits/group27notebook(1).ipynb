{
 "cells": [
  {
   "cell_type": "markdown",
   "metadata": {},
   "source": [
    "<h1 style=\"text-align:center\">Deep Learning   </h1>\n",
    "<h1 style=\"text-align:center\"> Lab Session 2 - 1.5 Hours </h1>\n",
    "<h1 style=\"text-align:center\"> Convolutional Neural Network (CNN) for Handwritten Digits Recognition</h1>"
   ]
  },
  {
   "cell_type": "markdown",
   "metadata": {},
   "source": [
    "- Amyn KASSARA\n",
    "- Anas BOUZAFOUR"
   ]
  },
  {
   "cell_type": "markdown",
   "metadata": {},
   "source": [
    "The aim of this session is to practice with Convolutional Neural Networks. Each group should fill and run appropriate notebook cells. \n",
    "\n",
    "Follow instructions step by step until the end and submit your complete notebook as an archive (tar -cf groupXnotebook.tar DL_lab2/).\n",
    "\n",
    "Do not forget to run all your cells before generating your final report and do not forget to include the names of all participants in the group. The lab session should be completed by May 29th 2019 (23:59:59 CET)."
   ]
  },
  {
   "cell_type": "markdown",
   "metadata": {},
   "source": [
    "# Introduction"
   ]
  },
  {
   "cell_type": "markdown",
   "metadata": {},
   "source": [
    "In the last Lab Session, you built a Multilayer Perceptron for recognizing hand-written digits from the MNIST data-set. The best achieved accuracy on testing data was about 97%.  Can  you do better than these results using a deep CNN ?\n",
    "In this Lab Session, you will build, train and optimize in TensorFlow one of the early Convolutional Neural Networks,  **LeNet-5**, to go to  more than 99% of accuracy. \n",
    "\n",
    "\n",
    "\n",
    "\n"
   ]
  },
  {
   "cell_type": "markdown",
   "metadata": {},
   "source": [
    "# Load MNIST Data in TensorFlow\n",
    "Run the cell below to load the MNIST data that comes with TensorFlow. You will use this data in **Section 1** and **Section 2**."
   ]
  },
  {
   "cell_type": "code",
   "execution_count": 2,
   "metadata": {},
   "outputs": [
    {
     "name": "stdout",
     "output_type": "stream",
     "text": [
      "Extracting MNIST_data/train-images-idx3-ubyte.gz\n",
      "Extracting MNIST_data/train-labels-idx1-ubyte.gz\n",
      "Extracting MNIST_data/t10k-images-idx3-ubyte.gz\n",
      "Extracting MNIST_data/t10k-labels-idx1-ubyte.gz\n",
      "Image Shape: (784,)\n",
      "Training Set:   55000 samples\n",
      "Validation Set: 5000 samples\n",
      "Test Set:       10000 samples\n"
     ]
    }
   ],
   "source": [
    "from time import time\n",
    "import tensorflow as tf\n",
    "import numpy as np\n",
    "from tensorflow.examples.tutorials.mnist import input_data\n",
    "mnist = input_data.read_data_sets(\"MNIST_data/\", one_hot=True)\n",
    "X_train, y_train           = mnist.train.images, mnist.train.labels\n",
    "X_validation, y_validation = mnist.validation.images, mnist.validation.labels\n",
    "X_test, y_test             = mnist.test.images, mnist.test.labels\n",
    "print(\"Image Shape: {}\".format(X_train[0].shape))\n",
    "print(\"Training Set:   {} samples\".format(len(X_train)))\n",
    "print(\"Validation Set: {} samples\".format(len(X_validation)))\n",
    "print(\"Test Set:       {} samples\".format(len(X_test)))\n",
    "\n",
    "epsilon = 1e-10 # this is a parameter you will use later"
   ]
  },
  {
   "cell_type": "markdown",
   "metadata": {},
   "source": [
    "# Section 1 : My First Model in TensorFlow"
   ]
  },
  {
   "cell_type": "markdown",
   "metadata": {},
   "source": [
    "Before starting with CNN, let's train and test in TensorFlow the example\n",
    "**y=softmax(Wx+b)** seen in the first lab. \n",
    "\n",
    "This model reaches an accuracy of about 92 %.\n",
    "You will also learn how to launch the TensorBoard https://www.tensorflow.org/get_started/summaries_and_tensorboard to visualize the computation graph, statistics and learning curves. "
   ]
  },
  {
   "cell_type": "markdown",
   "metadata": {},
   "source": [
    "<b> Part 1 </b> : Read carefully the code in the cell below. Run it to perform training. "
   ]
  },
  {
   "cell_type": "code",
   "execution_count": 3,
   "metadata": {},
   "outputs": [
    {
     "name": "stdout",
     "output_type": "stream",
     "text": [
      "Epoch:  01   =====> Loss= 1.288795405\n",
      "Epoch:  02   =====> Loss= 0.732733053\n",
      "Epoch:  03   =====> Loss= 0.600515388\n",
      "Epoch:  04   =====> Loss= 0.536665128\n",
      "Epoch:  05   =====> Loss= 0.497798177\n",
      "Epoch:  06   =====> Loss= 0.471231114\n",
      "Epoch:  07   =====> Loss= 0.451124308\n",
      "Epoch:  08   =====> Loss= 0.435805831\n",
      "Epoch:  09   =====> Loss= 0.423496278\n",
      "Epoch:  10   =====> Loss= 0.413127124\n",
      "Epoch:  11   =====> Loss= 0.404389117\n",
      "Epoch:  12   =====> Loss= 0.396879473\n",
      "Epoch:  13   =====> Loss= 0.390215650\n",
      "Epoch:  14   =====> Loss= 0.384576511\n",
      "Epoch:  15   =====> Loss= 0.379182230\n",
      "Epoch:  16   =====> Loss= 0.374522811\n",
      "Epoch:  17   =====> Loss= 0.370235896\n",
      "Epoch:  18   =====> Loss= 0.366593191\n",
      "Epoch:  19   =====> Loss= 0.362945681\n",
      "Epoch:  20   =====> Loss= 0.359673449\n",
      "Epoch:  21   =====> Loss= 0.356555592\n",
      "Epoch:  22   =====> Loss= 0.353806502\n",
      "Epoch:  23   =====> Loss= 0.351471897\n",
      "Epoch:  24   =====> Loss= 0.348860044\n",
      "Epoch:  25   =====> Loss= 0.346522481\n",
      "Epoch:  26   =====> Loss= 0.344210360\n",
      "Epoch:  27   =====> Loss= 0.342220725\n",
      "Epoch:  28   =====> Loss= 0.340236740\n",
      "Epoch:  29   =====> Loss= 0.338473951\n",
      "Epoch:  30   =====> Loss= 0.336599786\n",
      "Epoch:  31   =====> Loss= 0.335322732\n",
      "Epoch:  32   =====> Loss= 0.333483387\n",
      "Epoch:  33   =====> Loss= 0.331948105\n",
      "Epoch:  34   =====> Loss= 0.330648411\n",
      "Epoch:  35   =====> Loss= 0.329042052\n",
      "Epoch:  36   =====> Loss= 0.328065747\n",
      "Epoch:  37   =====> Loss= 0.326743664\n",
      "Epoch:  38   =====> Loss= 0.325093255\n",
      "Epoch:  39   =====> Loss= 0.324202630\n",
      "Epoch:  40   =====> Loss= 0.323020002\n",
      "Optimization Finished!\n",
      "Accuracy: 0.9165\n"
     ]
    }
   ],
   "source": [
    "#STEP 1\n",
    "\n",
    "# Parameters\n",
    "learning_rate = 0.01\n",
    "training_epochs = 40\n",
    "batch_size = 128\n",
    "display_step = 1\n",
    "logs_path = 'log_files/'  # useful for tensorboard\n",
    "\n",
    "# tf Graph Input:  mnist data image of shape 28*28=784\n",
    "x = tf.placeholder(tf.float32, [None, 784], name='InputData')\n",
    "# 0-9 digits recognition,  10 classes\n",
    "y = tf.placeholder(tf.float32, [None, 10], name='LabelData')\n",
    "\n",
    "# Set model weights\n",
    "W = tf.Variable(tf.zeros([784, 10]), name='Weights')\n",
    "b = tf.Variable(tf.zeros([10]), name='Bias')\n",
    "\n",
    "# Construct model and encapsulating all ops into scopes, making Tensorboard's Graph visualization more convenient\n",
    "with tf.name_scope('Model'):\n",
    "    # Model\n",
    "    pred = tf.nn.softmax(tf.matmul(x, W) + b) # Softmax\n",
    "with tf.name_scope('Loss'):\n",
    "    # Minimize error using cross entropy\n",
    "    # We use tf.clip_by_value to avoid having too low numbers in the log function\n",
    "    cost = tf.reduce_mean(-tf.reduce_sum(y*tf.log(tf.clip_by_value(pred, epsilon, 1.0)), reduction_indices=1))\n",
    "with tf.name_scope('SGD'):\n",
    "    # Gradient Descent\n",
    "    optimizer = tf.train.GradientDescentOptimizer(learning_rate).minimize(cost)\n",
    "with tf.name_scope('Accuracy'):\n",
    "    # Accuracy\n",
    "    acc = tf.equal(tf.argmax(pred, 1), tf.argmax(y, 1))\n",
    "    acc = tf.reduce_mean(tf.cast(acc, tf.float32))\n",
    "\n",
    "# Initializing the variables\n",
    "init = tf.global_variables_initializer()\n",
    "# Create a summary to monitor cost tensor\n",
    "tf.summary.scalar(\"Loss\", cost)\n",
    "# Create a summary to monitor accuracy tensor\n",
    "tf.summary.scalar(\"Accuracy\", acc)\n",
    "# Merge all summaries into a single op\n",
    "merged_summary_op = tf.summary.merge_all()\n",
    "\n",
    "#STEP 2 \n",
    "\n",
    "# Launch the graph for training\n",
    "with tf.Session() as sess:\n",
    "    sess.run(init)\n",
    "    # op to write logs to Tensorboard\n",
    "    summary_writer = tf.summary.FileWriter(logs_path, graph=tf.get_default_graph())\n",
    "    # Training cycle\n",
    "    for epoch in range(training_epochs):\n",
    "        avg_cost = 0.\n",
    "        total_batch = int(mnist.train.num_examples/batch_size)\n",
    "        # Loop over all batches\n",
    "        for i in range(total_batch):\n",
    "            batch_xs, batch_ys = mnist.train.next_batch(batch_size, shuffle=(i==0))\n",
    "            # Run optimization op (backprop), cost op (to get loss value)\n",
    "            # and summary nodes\n",
    "            _, c, summary = sess.run([optimizer, cost, merged_summary_op],\n",
    "                                     feed_dict={x: batch_xs, y: batch_ys})\n",
    "            # Write logs at every iteration\n",
    "            summary_writer.add_summary(summary, epoch * total_batch + i)\n",
    "            # Compute average loss\n",
    "            avg_cost += c / total_batch\n",
    "        # Display logs per epoch step\n",
    "        if (epoch+1) % display_step == 0:\n",
    "            print(\"Epoch: \", '%02d' % (epoch+1), \"  =====> Loss=\", \"{:.9f}\".format(avg_cost))\n",
    "\n",
    "    print(\"Optimization Finished!\")\n",
    "    summary_writer.flush()\n",
    "\n",
    "    # Test model\n",
    "    # Calculate accuracy\n",
    "    print(\"Accuracy:\", acc.eval({x: mnist.test.images, y: mnist.test.labels}))"
   ]
  },
  {
   "cell_type": "markdown",
   "metadata": {},
   "source": [
    "<b> Part 2  </b>: Using Tensorboard, we can  now visualize the created graph, giving you an overview of your architecture and how all of the major components  are connected. You can also see and analyse the learning curves. \n",
    "\n",
    "To launch tensorBoard: \n",
    "- Open a Terminal and run the command line **\"tensorboard --logdir=lab_2/log_files/\"**\n",
    "- Click on \"Tensorboard web interface\" in Zoe  \n",
    "\n",
    "\n",
    "Enjoy It !! \n"
   ]
  },
  {
   "cell_type": "markdown",
   "metadata": {},
   "source": [
    "<img src=\"MNIST_figures/Accuracy1.png\" width=\"300\" height=\"150\" align=\"center\">\n",
    "<center><span>Figure 1: Validation Accuracy Graph</span></center>\n",
    "<img src=\"MNIST_figures/Loss1.png\" width=\"300\" height=\"150\" align=\"center\">\n",
    "<center><span>Figure 2: Training Loss Graph</span></center>\n",
    "<img src=\"MNIST_figures/graph1.png\" width=\"600\" height=\"300\" align=\"center\">\n",
    "<center><span>Figure 3: Network Graph</span></center>"
   ]
  },
  {
   "cell_type": "markdown",
   "metadata": {},
   "source": [
    "# Section 2 : The 99% MNIST Challenge !"
   ]
  },
  {
   "cell_type": "markdown",
   "metadata": {},
   "source": [
    "<b> Part 1 </b> : LeNet5 implementation"
   ]
  },
  {
   "cell_type": "markdown",
   "metadata": {},
   "source": [
    "You are now familar with **TensorFlow** and **TensorBoard**. In this section, you are to build, train and test the baseline [LeNet-5](http://yann.lecun.com/exdb/lenet/)  model for the MNIST digits recognition problem.  \n",
    "\n",
    "Then, you will make some optimizations to get more than 99% of accuracy.\n",
    "\n",
    "For more informations, have a look at this list of results: http://rodrigob.github.io/are_we_there_yet/build/classification_datasets_results.html"
   ]
  },
  {
   "cell_type": "markdown",
   "metadata": {},
   "source": [
    "\n",
    "<img src=\"lenet.png\" width=\"800\" height=\"600\" align=\"center\">\n",
    "\n",
    "\n",
    "\n",
    "\n",
    "\n",
    "The LeNet architecture takes a 28x28xC image as input, where C is the number of color channels. Since MNIST images are grayscale, C is 1 in this case.\n",
    "\n",
    "--------------------------\n",
    "**Layer 1 - Convolution (5x5):** The output shape should be 28x28x6. **Activation:** ReLU. **MaxPooling:** The output shape should be 14x14x6.\n",
    "\n",
    "**Layer 2 - Convolution (5x5):** The output shape should be 10x10x16. **Activation:** ReLU. **MaxPooling:** The output shape should be 5x5x16.\n",
    "\n",
    "**Flatten:** Flatten the output shape of the final pooling layer such that it's 1D instead of 3D.  You may need to use tf.reshape.\n",
    "\n",
    "**Layer 3 - Fully Connected:** This should have 120 outputs. **Activation:** ReLU.\n",
    "\n",
    "**Layer 4 - Fully Connected:** This should have 84 outputs. **Activation:** ReLU.\n",
    "\n",
    "**Layer 5 - Fully Connected:** This should have 10 outputs. **Activation:** softmax.\n"
   ]
  },
  {
   "cell_type": "markdown",
   "metadata": {},
   "source": [
    "<b> Question 2.1.1 </b>  Implement the Neural Network architecture described above.\n",
    "For that, your will use classes and functions from  https://www.tensorflow.org/api_docs/python/tf/nn. \n",
    "\n",
    "We give you some helper functions for weigths and bias initilization. Also you can refer to section 1. \n"
   ]
  },
  {
   "cell_type": "code",
   "execution_count": 4,
   "metadata": {},
   "outputs": [],
   "source": [
    "# Functions for weigths and bias initilization \n",
    "def weight_variable(shape):\n",
    "  initial = tf.truncated_normal(shape, stddev=0.1)\n",
    "  return tf.Variable(initial)\n",
    "\n",
    "def bias_variable(shape):\n",
    "  initial = tf.constant(0., shape=shape)\n",
    "  return tf.Variable(initial)"
   ]
  },
  {
   "cell_type": "code",
   "execution_count": 5,
   "metadata": {},
   "outputs": [],
   "source": [
    "def LeNet5_Model(image):    \n",
    "    \n",
    "    #First layer \n",
    "    #We first compute the convolution of the image with the filter filt1, then the result is  the input of the activation function, \n",
    "    #and finally we compute the pooling operation  (28x28x1 -> conv_layer_1 -> 28x28x6 -> pool_layer_1 -> 14x14x6)\n",
    "    filter1= weight_variable([5, 5, 1, 6])\n",
    "    conv_layer_1 = tf.nn.conv2d(image, filter1, [1,1,1,1], \"SAME\")\n",
    "    bias_1 = bias_variable([6])\n",
    "    hidden_layer_1 = tf.nn.relu(conv_layer_1 + bias_1)\n",
    "    pool_layer_1 = tf.nn.max_pool(hidden_layer_1, [1,2,2,1], [1,2,2,1], \"VALID\")\n",
    "    \n",
    "    #Second layer\n",
    "    # Same operations as the first layer, but this time the convolution with filt2 will change the shape of the input\n",
    "    #(14x14x6 -> conv_layer_2 -> 10x10x16 -> pool_layer_2 -> 5x5x16 -> flat2 -> 400)\n",
    "    filter2 = weight_variable([5, 5, 6, 16])\n",
    "    conv_layer_2 = tf.nn.conv2d(pool_layer_1, filter2, [1,1,1,1], \"VALID\")\n",
    "    bias_2 = bias_variable([16])\n",
    "    hidden_layer_2 = tf.nn.relu(conv_layer_2 + bias_2)\n",
    "    pool_layer_2 = tf.nn.max_pool(hidden_layer_2, [1,2,2,1], [1, 2, 2, 1], \"VALID\")\n",
    "    flat2 = tf.contrib.layers.flatten(pool_layer_2)\n",
    "    \n",
    "    #Third layer\n",
    "    #This layer is a fully connected layer. It is a classic hidden layer of a neural network where all the neurons of layer n-1 is connected\n",
    "    #to every neuron of layer n (400 -> fc_layer_3 -> 120)\n",
    "    weights3 = weight_variable([400, 120])\n",
    "    bias_3 = bias_variable([120])\n",
    "    fc_layer_3 = tf.nn.relu(tf.matmul(flat2, weights3) + bias_3)\n",
    "    \n",
    "    #Fourth layer\n",
    "    #This layer is a fully connected layer (120 -> fc_layer_4-> 84)\n",
    "    weights4 = weight_variable([120, 84])\n",
    "    bias_4 = bias_variable([84])\n",
    "    fc_layer_4 = tf.nn.relu(tf.matmul(fc_layer_3 , weights4) + bias_4)\n",
    "    \n",
    "    \n",
    "    #fifth layer\n",
    "    #This layer is a fully connected layer (84 -> fc_layer_5-> 10)\n",
    "    weights5 = weight_variable([84, 10])\n",
    "    bias_5 = bias_variable([10])\n",
    "    output = tf.nn.softmax(tf.matmul(fc_layer_4 , weights5) + bias_5)\n",
    "    \n",
    "    return output\n",
    "    "
   ]
  },
  {
   "cell_type": "markdown",
   "metadata": {},
   "source": [
    "<b> Question 2.1.2. </b>  Calculate the number of parameters of this model "
   ]
  },
  {
   "cell_type": "code",
   "execution_count": 6,
   "metadata": {},
   "outputs": [
    {
     "name": "stdout",
     "output_type": "stream",
     "text": [
      "Total number of parameters :  59706\n"
     ]
    }
   ],
   "source": [
    "#In a CNN, each layer ( convolutionnal and fully connected) has two kinds of parameters : weights and biases.The total number of parameters is just the \n",
    "#sum of all weights and biases.There are no parameters associated with a MaxPool layer. The pool size, stride, and padding are hyperparameters.\n",
    "#For a convolutionnal layer, the number of weights is the size of the matrix representing the filter multiplied by the number of channels. For a fully \n",
    "#connected layer, the number of weights is the size (width) of the output image of the previous Layer multiplied by the number of neurons in the fully\n",
    "#connected layer\n",
    "param_layer_1 = 6*5**2 + 6\n",
    "param_layer_2 = 16*5**2 + 16\n",
    "param_layer_3 = 400*120 + 120\n",
    "param_layer_4 = 120*84 + 84\n",
    "param_layer_5 = 84*10 + 10\n",
    "\n",
    "count_param = param_layer_1 + param_layer_2 + param_layer_3 + param_layer_4 + param_layer_5\n",
    "print(\"Total number of parameters : \" ,count_param)"
   ]
  },
  {
   "cell_type": "markdown",
   "metadata": {},
   "source": [
    " Your answer goes here in details "
   ]
  },
  {
   "cell_type": "markdown",
   "metadata": {},
   "source": [
    "<b> Question 2.1.3. </b>  Define your model, its accuracy and the loss function according to the following parameters (you can look at Section 1 to see what is expected):\n",
    "\n",
    "     Learning rate: 0.001\n",
    "     Loss Fucntion: Cross-entropy\n",
    "     Optimizer: tf.train.GradientDescentOptimizer\n",
    "     Number of epochs: 40\n",
    "     Batch size: 128"
   ]
  },
  {
   "cell_type": "code",
   "execution_count": 7,
   "metadata": {},
   "outputs": [],
   "source": [
    "tf.reset_default_graph() # reset the default graph before defining a new model\n",
    "! rm -rf ./log_files # Clear logs\n",
    "\n",
    "# Parameters\n",
    "learning_rate = 0.001\n",
    "training_epochs = 40\n",
    "batch_size = 128\n",
    "logs_path = 'log_files/'\n",
    "\n",
    "\n",
    "#placeholder:\n",
    "x = tf.placeholder(tf.float32, [None,28,28,1], name='input')\n",
    "y = tf.placeholder(tf.float32, [None,10], name='output')\n",
    "# Model, loss function and accuracy\n",
    "#Model:\n",
    "with tf.name_scope('Model'):\n",
    "    pred = LeNet5_Model(x)\n",
    "#Loss function:\n",
    "with tf.name_scope('Loss'):\n",
    "    cost = tf.reduce_mean(-tf.reduce_sum(y*tf.log(tf.clip_by_value(pred, epsilon, 1.0)), reduction_indices=1))\n",
    "#Optimizer:\n",
    "with tf.name_scope('SGD'):\n",
    "    optimizer = tf.train.GradientDescentOptimizer(learning_rate).minimize(cost)\n"
   ]
  },
  {
   "cell_type": "markdown",
   "metadata": {},
   "source": [
    "<b> Question 2.1.4. </b>  Implement the evaluation function for accuracy computation "
   ]
  },
  {
   "cell_type": "code",
   "execution_count": 8,
   "metadata": {},
   "outputs": [],
   "source": [
    "def evaluate(logits, labels):\n",
    "    # logits will be the outputs of your model, labels will be one-hot vectors corresponding to the actual labels\n",
    "    # logits and labels are numpy arrays\n",
    "    # this function should return the accuracy of your model\n",
    "    correct = tf.equal(tf.argmax(logits, 1), tf.argmax(labels, 1))\n",
    "    return tf.reduce_mean(tf.cast(correct, tf.float32))\n",
    "\n",
    "with tf.name_scope('Accuracy'):\n",
    "    acc = evaluate(pred, y)"
   ]
  },
  {
   "cell_type": "markdown",
   "metadata": {},
   "source": [
    "<b> Question 2.1.5. </b>  Implement training pipeline and run the training data through it to train the model.\n",
    "\n",
    "- Before each epoch, shuffle the training set. \n",
    "- Print the loss per mini batch and the training/validation accuracy per epoch. (Display results every 100 epochs)\n",
    "- Save the model after training\n",
    "- Print after training the final testing accuracy \n",
    "\n"
   ]
  },
  {
   "cell_type": "code",
   "execution_count": 9,
   "metadata": {},
   "outputs": [
    {
     "name": "stdout",
     "output_type": "stream",
     "text": [
      "Epoch:  10   =====> Loss= 0.461601113\n",
      "Train accuracy = 86.96%\n",
      "  |  Validation accuracy = 87.92%\n",
      "\n",
      "Epoch:  20   =====> Loss= 0.267179752\n",
      "Train accuracy = 92.12%\n",
      "  |  Validation accuracy = 93.02%\n",
      "\n",
      "Epoch:  30   =====> Loss= 0.203872303\n",
      "Train accuracy = 94.05%\n",
      "  |  Validation accuracy = 94.76%\n",
      "\n",
      "Epoch:  40   =====> Loss= 0.165260443\n",
      "Train accuracy = 95.13%\n",
      "  |  Validation accuracy = 95.84%\n",
      "\n",
      "Optimization Finished!\n",
      "Training time = 698.624 seconds\n",
      "Accuracy: 0.9547\n"
     ]
    }
   ],
   "source": [
    "# Initializing the variables\n",
    "init = tf.global_variables_initializer()\n",
    "# Create a summary to monitor cost tensor\n",
    "tf.summary.scalar(\"Loss_LeNet-5_SGD\", cost)\n",
    "# Create a summary to monitor accuracy tensor\n",
    "tf.summary.scalar(\"Accuracy_LeNet-5_SGD\", acc)\n",
    "# Merge all summaries into a single op\n",
    "merged_summary_op = tf.summary.merge_all()\n",
    "\n",
    "#reshaping X_train:\n",
    "x_train = X_train.reshape(-1, 28, 28, 1)\n",
    "#reshaping X_val:\n",
    "x_val = X_validation.reshape(-1, 28, 28, 1)\n",
    "#reshaping X_test\n",
    "x_test = X_test.reshape(-1, 28, 28, 1)\n",
    "\n",
    "\n",
    "def train(init, sess, logs_path, n_epochs, batch_size, optimizer, cost, merged_summary_op):\n",
    "    startTime = time()\n",
    "    with tf.Session() as sess:\n",
    "        sess.run(init)\n",
    "        # op to write logs to Tensorboard\n",
    "        summary_writer = tf.summary.FileWriter(logs_path, graph=tf.get_default_graph())\n",
    "        # optimizer and cost are the same kinds of objects as in Section 1\n",
    "        # Train your model\n",
    "        # Training cycle\n",
    "        for epoch in range(training_epochs):\n",
    "            avg_cost = 0.\n",
    "            total_batch = int(mnist.train.num_examples/batch_size)\n",
    "            # Loop over all batches\n",
    "            for i in range(total_batch):\n",
    "                batch_xs, batch_ys = mnist.train.next_batch(batch_size, shuffle=(i==0))\n",
    "                batch_xs = batch_xs.reshape(batch_size,28,28,1)\n",
    "                # Run optimization op (backprop), cost op (to get loss value)\n",
    "                # and summary nodes\n",
    "                _, c, summary = sess.run([optimizer, cost, merged_summary_op],feed_dict={x: batch_xs, y: batch_ys})\n",
    "                # Write logs at every iteration\n",
    "                summary_writer.add_summary(summary, epoch * total_batch + i)\n",
    "                # Compute average loss\n",
    "                avg_cost += c / total_batch\n",
    "            if (epoch+1) % 10 == 0:\n",
    "                # Display loss per 10 epochs\n",
    "                print(\"Epoch: \", '%02d' % (epoch+1), \"  =====> Loss=\", \"{:.9f}\".format(avg_cost))\n",
    "                # Display accuracy per 10 epochs\n",
    "                acc_train= acc.eval({x: x_train, y: y_train})\n",
    "                acc_val = acc.eval({x: x_val, y: y_validation})\n",
    "                print(\"Train accuracy =\", \"{:.2f}%\\n\".format(acc_train*100),\" | \",\"Validation accuracy =\", \"{:.2f}%\\n\".format(acc_val*100))\n",
    "        \n",
    "                \n",
    "            \n",
    "        endTime = time()\n",
    "        print(\"Optimization Finished!\")\n",
    "        print(\"Training time =\", \"{:.3f} seconds\".format(endTime-startTime))\n",
    "        summary_writer.flush()\n",
    "        pass\n",
    "        # Print the accuracy on testing data\n",
    "        print(\"Accuracy:\", acc.eval({x: x_test, y: mnist.test.labels}))\n",
    "        pass\n",
    "\n",
    "with tf.Session() as sess:\n",
    "    train(init, sess, logs_path, training_epochs, batch_size, optimizer, cost, merged_summary_op)"
   ]
  },
  {
   "cell_type": "markdown",
   "metadata": {},
   "source": [
    "<b> Question 2.1.6 </b> : Use TensorBoard to visualise and save loss and accuracy curves. \n",
    "You will save figures in the folder **\"lab_2/MNIST_figures\"** and display them in your notebook."
   ]
  },
  {
   "cell_type": "markdown",
   "metadata": {},
   "source": [
    "Please put your loss and accuracy curves here."
   ]
  },
  {
   "cell_type": "markdown",
   "metadata": {},
   "source": [
    "<img src=\"MNIST_figures/Accuracy_LeNet5.PNG\" width=\"300\" height=\"150\" align=\"center\">\n",
    "<center><span>Figure 1: Validation Accuracy Graph</span></center>\n",
    "<img src=\"MNIST_figures/Loss_LeNet5.PNG\" width=\"300\" height=\"150\" align=\"center\">\n",
    "<center><span>Figure 2: Training Loss Graph</span></center>"
   ]
  },
  {
   "cell_type": "markdown",
   "metadata": {},
   "source": [
    "<b> Part 2 </b> : LeNET 5 Optimization"
   ]
  },
  {
   "cell_type": "markdown",
   "metadata": {},
   "source": [
    "\n",
    "<b> Question 2.2.1 </b>\n",
    "\n",
    "- Retrain your network with AdamOptimizer and then fill the table above:\n",
    "\n",
    "\n",
    "| Optimizer            |  Gradient Descent  |    AdamOptimizer    |\n",
    "|----------------------|--------------------|---------------------|\n",
    "| Testing Accuracy     |         0.95       |        0.99          |       \n",
    "| Training Time        |         698s       |        705s          |  \n",
    "\n",
    "- Which optimizer gives the best accuracy on test data?\n",
    "\n",
    "**Your answer:** ...\n"
   ]
  },
  {
   "cell_type": "code",
   "execution_count": 10,
   "metadata": {},
   "outputs": [
    {
     "name": "stdout",
     "output_type": "stream",
     "text": [
      "Epoch:  10   =====> Loss= 0.021137630\n",
      "Train accuracy = 99.08%\n",
      "  |  Validation accuracy = 98.60%\n",
      "\n",
      "Epoch:  20   =====> Loss= 0.009455812\n",
      "Train accuracy = 99.71%\n",
      "  |  Validation accuracy = 98.92%\n",
      "\n",
      "Epoch:  30   =====> Loss= 0.003682482\n",
      "Train accuracy = 99.75%\n",
      "  |  Validation accuracy = 98.94%\n",
      "\n",
      "Epoch:  40   =====> Loss= 0.003524325\n",
      "Train accuracy = 99.91%\n",
      "  |  Validation accuracy = 99.20%\n",
      "\n",
      "Optimization Finished!\n",
      "Training time = 705.503 seconds\n",
      "Accuracy: 0.9908\n"
     ]
    }
   ],
   "source": [
    "tf.reset_default_graph() # your implementation goes here\n",
    "! rm -rf ./log_files # Clear logs\n",
    "#placeholder:\n",
    "x = tf.placeholder(tf.float32, [None,28,28,1], name='input')\n",
    "y = tf.placeholder(tf.float32, [None,10], name='output')\n",
    "# Model, loss function and accuracy\n",
    "#Model:\n",
    "with tf.name_scope('Model'):\n",
    "    pred = LeNet5_Model(x)\n",
    "#Loss function:\n",
    "with tf.name_scope('Loss'):\n",
    "    cost = tf.reduce_mean(-tf.reduce_sum(y*tf.log(tf.clip_by_value(pred, epsilon, 1.0)), reduction_indices=1))\n",
    "#Optimizer:\n",
    "with tf.name_scope('AdamOptimizer'):\n",
    "    optimizer = tf.train.AdamOptimizer(learning_rate).minimize(cost)\n",
    "    \n",
    "#Accuracy\n",
    "with tf.name_scope('Accuracy'):\n",
    "    acc = evaluate(pred, y)\n",
    "    \n",
    "# Initializing the variables\n",
    "init = tf.global_variables_initializer()\n",
    "# Create a summary to monitor cost tensor\n",
    "tf.summary.scalar(\"Loss_LeNet-5_Adam\", cost)\n",
    "# Create a summary to monitor accuracy tensor\n",
    "tf.summary.scalar(\"Accuracy_LeNet-5_Adam\", acc)\n",
    "# Merge all summaries into a single op\n",
    "merged_summary_op = tf.summary.merge_all()\n",
    "\n",
    "\n",
    "# LAUNCH SESSION\n",
    "with tf.Session() as sess:\n",
    "    train(init, sess, logs_path, training_epochs, batch_size, optimizer, cost, merged_summary_op)\n",
    "\n"
   ]
  },
  {
   "cell_type": "markdown",
   "metadata": {},
   "source": [
    "The Adam Opptimizer (99% of accuracy) gives a better accuracy than the SGD (95% of accuracy), and it takes only 7s more to compute. \n",
    "The main reason is that the Adam optimizer computes individual adaptive learning rates for different parameters from estimates of first and second moments of the gradients,while the learning rate in the Stochastic Gradient Descent is constant through the iterations. However, we could increase the accuracy with the SGD optimizer by tuning the learning rate empirically."
   ]
  },
  {
   "cell_type": "markdown",
   "metadata": {},
   "source": [
    "<b> Question 2.2.2</b> Try to add dropout (keep_prob = 0.75) before the first fully connected layer. You will use tf.nn.dropout for that purpose. What accuracy do you achieve on testing data?\n",
    "\n",
    "**Accuracy achieved on testing data:** ..."
   ]
  },
  {
   "cell_type": "code",
   "execution_count": 18,
   "metadata": {},
   "outputs": [],
   "source": [
    "keep_prob = 0.75\n",
    "def LeNet5_Model_Dropout(image):    \n",
    "    #First layer \n",
    "    #We first compute the convolution of the image with the filter filt1, then the result is  the input of the activation function, \n",
    "    #and finally we compute the pooling operation  (28x28x1 -> conv_layer_1 -> 28x28x6 -> pool_layer_1 -> 14x14x6)\n",
    "    filter1= weight_variable([5, 5, 1, 6])\n",
    "    conv_layer_1 = tf.nn.conv2d(image, filter1, [1,1,1,1], \"SAME\")\n",
    "    bias_1 = bias_variable([6])\n",
    "    hidden_layer_1 = tf.nn.relu(conv_layer_1 + bias_1)\n",
    "    pool_layer_1 = tf.nn.max_pool(hidden_layer_1, [1,2,2,1], [1,2,2,1], \"VALID\")\n",
    "    \n",
    "    #Second layer\n",
    "    # Same operations as the first layer, but this time the convolution with filt2 will change the shape of the input\n",
    "    #(14x14x6 -> conv_layer_2 -> 10x10x16 -> pool_layer_2 -> 5x5x16 -> flat2 -> 400)\n",
    "    filter2 = weight_variable([5, 5, 6, 16])\n",
    "    conv_layer_2 = tf.nn.conv2d(pool_layer_1, filter2, [1,1,1,1], \"VALID\")\n",
    "    bias_2 = bias_variable([16])\n",
    "    hidden_layer_2 = tf.nn.relu(conv_layer_2 + bias_2)\n",
    "    pool_layer_2 = tf.nn.max_pool(hidden_layer_2, [1,2,2,1], [1, 2, 2, 1], \"VALID\")\n",
    "    flat2 = tf.contrib.layers.flatten(pool_layer_2)\n",
    "    \n",
    "    # --- dropout layer --- #\n",
    "    drop_layer = tf.nn.dropout(flat2, keep_prob)\n",
    "    \n",
    "    #Third layer\n",
    "    #This layer is a fully connected layer. It is a classic hidden layer of a neural network where all the neurons of layer n-1 is connected\n",
    "    #to every neuron of layer n (400 -> fc_layer_3 -> 120)\n",
    "    weights3 = weight_variable([400, 120])\n",
    "    bias_3 = bias_variable([120])\n",
    "    fc_layer_3 = tf.nn.relu(tf.matmul(drop_layer, weights3) + bias_3)\n",
    "    \n",
    "    #Fourth layer\n",
    "    #This layer is a fully connected layer (120 -> fc_layer_4-> 84)\n",
    "    weights4 = weight_variable([120, 84])\n",
    "    bias_4 = bias_variable([84])\n",
    "    fc_layer_4 = tf.nn.relu(tf.matmul(fc_layer_3 , weights4) + bias_4)\n",
    "    \n",
    "    \n",
    "    #fifth layer\n",
    "    #This layer is a fully connected layer (84 -> fc_layer_5-> 10)\n",
    "    weights5 = weight_variable([84, 10])\n",
    "    bias_5 = bias_variable([10])\n",
    "    output = tf.nn.softmax(tf.matmul(fc_layer_4 , weights5) + bias_5)\n",
    "    \n",
    "    return output"
   ]
  },
  {
   "cell_type": "code",
   "execution_count": 19,
   "metadata": {},
   "outputs": [
    {
     "name": "stdout",
     "output_type": "stream",
     "text": [
      "Epoch:  10   =====> Loss= 0.035672985\n",
      "Train accuracy = 99.07%\n",
      "  |  Validation accuracy = 98.52%\n",
      "\n",
      "Epoch:  20   =====> Loss= 0.019310901\n",
      "Train accuracy = 99.45%\n",
      "  |  Validation accuracy = 98.88%\n",
      "\n",
      "Epoch:  30   =====> Loss= 0.013152931\n",
      "Train accuracy = 99.53%\n",
      "  |  Validation accuracy = 98.80%\n",
      "\n",
      "Epoch:  40   =====> Loss= 0.010225293\n",
      "Train accuracy = 99.61%\n",
      "  |  Validation accuracy = 98.96%\n",
      "\n",
      "Optimization Finished!\n",
      "Training time = 703.228 seconds\n",
      "Accuracy: 0.9874\n"
     ]
    }
   ],
   "source": [
    "tf.reset_default_graph() # your implementation goes here\n",
    "! rm -rf ./log_files # Clear logs\n",
    "#placeholder:\n",
    "x = tf.placeholder(tf.float32, [None,28,28,1], name='input')\n",
    "y = tf.placeholder(tf.float32, [None,10], name='output')\n",
    "# Model, loss function and accuracy\n",
    "#Model:\n",
    "with tf.name_scope('Model'):\n",
    "    pred = LeNet5_Model_Dropout(x)\n",
    "#Loss function:\n",
    "with tf.name_scope('Loss'):\n",
    "    cost = tf.reduce_mean(-tf.reduce_sum(y*tf.log(tf.clip_by_value(pred, epsilon, 1.0)), reduction_indices=1))\n",
    "#Optimizer:\n",
    "with tf.name_scope('AdamOptimizer'):\n",
    "    optimizer = tf.train.AdamOptimizer(learning_rate).minimize(cost)\n",
    "    \n",
    "#Accuracy\n",
    "with tf.name_scope('Accuracy'):\n",
    "    acc = evaluate(pred, y)\n",
    "    \n",
    "# Initializing the variables\n",
    "init = tf.global_variables_initializer()\n",
    "# Create a summary to monitor cost tensor\n",
    "tf.summary.scalar(\"Loss_LeNet-5_Adam\", cost)\n",
    "# Create a summary to monitor accuracy tensor\n",
    "tf.summary.scalar(\"Accuracy_LeNet-5_Adam\", acc)\n",
    "# Merge all summaries into a single op\n",
    "merged_summary_op = tf.summary.merge_all()\n",
    "\n",
    "\n",
    "# LAUNCH SESSION\n",
    "with tf.Session() as sess:\n",
    "    train(init, sess, logs_path, training_epochs, batch_size, optimizer, cost, merged_summary_op)\n",
    "\n"
   ]
  },
  {
   "cell_type": "markdown",
   "metadata": {},
   "source": [
    "The accuracy on test data is slighlty smaller when we use dropout. Dropout is a regularization technique, and is most effective at preventing overfitting, thus we should have had better results using this function. However our network is relatively small and we didn't notice the overfitting before using dropout, as the accuracy on test data (99.08%), is just slightly smaller than the accuracy on training data (99.91%)."
   ]
  },
  {
   "cell_type": "code",
   "execution_count": null,
   "metadata": {},
   "outputs": [],
   "source": []
  }
 ],
 "metadata": {
  "anaconda-cloud": {},
  "kernelspec": {
   "display_name": "Python 3",
   "language": "python",
   "name": "python3"
  },
  "language_info": {
   "codemirror_mode": {
    "name": "ipython",
    "version": 3
   },
   "file_extension": ".py",
   "mimetype": "text/x-python",
   "name": "python",
   "nbconvert_exporter": "python",
   "pygments_lexer": "ipython3",
   "version": "3.5.2"
  },
  "widgets": {
   "state": {},
   "version": "1.1.2"
  }
 },
 "nbformat": 4,
 "nbformat_minor": 2
}
